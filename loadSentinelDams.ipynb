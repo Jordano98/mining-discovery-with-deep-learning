{
  "cells": [
    {
      "cell_type": "markdown",
      "metadata": {
        "colab_type": "text",
        "id": "view-in-github"
      },
      "source": [
        "<a href=\"https://colab.research.google.com/github/remis/mining-discovery-with-deep-learning/blob/master/loadSentinelDams.ipynb\" target=\"_parent\"><img src=\"https://colab.research.google.com/assets/colab-badge.svg\" alt=\"Open In Colab\"/></a>"
      ]
    },
    {
      "cell_type": "markdown",
      "metadata": {
        "colab_type": "text",
        "id": "9eysUOMdrzPq"
      },
      "source": [
        "# Creates image samples from Sentinel 2 collections\n",
        "\n",
        "This script is part of a research project published on the paper \"Mining and Tailings Dam Detection In Satellite Imagery Using Deep Learning\" by Remis Balaniuk, Olga Isupova and Steven Reece. This project was developed at the University of Oxford from September 2019 to February 2020.\n",
        "It was prepared to be used on the Google Colaboratory platform (see https://colab.research.google.com/notebooks/welcome.ipynb ).  "
      ]
    },
    {
      "cell_type": "code",
      "execution_count": 1,
      "metadata": {
        "colab": {},
        "colab_type": "code",
        "id": "vE1lo3lKgL3p"
      },
      "outputs": [
        {
          "name": "stdout",
          "output_type": "stream",
          "text": [
            "Collecting earthengine-api\n",
            "  Downloading earthengine_api-1.5.5-py3-none-any.whl.metadata (2.1 kB)\n",
            "Collecting google-cloud-storage (from earthengine-api)\n",
            "  Downloading google_cloud_storage-3.1.0-py2.py3-none-any.whl.metadata (12 kB)\n",
            "Collecting google-api-python-client>=1.12.1 (from earthengine-api)\n",
            "  Downloading google_api_python_client-2.163.0-py2.py3-none-any.whl.metadata (6.7 kB)\n",
            "Collecting google-auth>=1.4.1 (from earthengine-api)\n",
            "  Downloading google_auth-2.38.0-py2.py3-none-any.whl.metadata (4.8 kB)\n",
            "Collecting google-auth-httplib2>=0.0.3 (from earthengine-api)\n",
            "  Downloading google_auth_httplib2-0.2.0-py2.py3-none-any.whl.metadata (2.2 kB)\n",
            "Collecting httplib2<1dev,>=0.9.2 (from earthengine-api)\n",
            "  Downloading httplib2-0.22.0-py3-none-any.whl.metadata (2.6 kB)\n",
            "Collecting requests (from earthengine-api)\n",
            "  Using cached requests-2.32.3-py3-none-any.whl.metadata (4.6 kB)\n",
            "Collecting google-api-core!=2.0.*,!=2.1.*,!=2.2.*,!=2.3.0,<3.0.0.dev0,>=1.31.5 (from google-api-python-client>=1.12.1->earthengine-api)\n",
            "  Downloading google_api_core-2.24.1-py3-none-any.whl.metadata (3.0 kB)\n",
            "Collecting uritemplate<5,>=3.0.1 (from google-api-python-client>=1.12.1->earthengine-api)\n",
            "  Downloading uritemplate-4.1.1-py2.py3-none-any.whl.metadata (2.9 kB)\n",
            "Collecting cachetools<6.0,>=2.0.0 (from google-auth>=1.4.1->earthengine-api)\n",
            "  Downloading cachetools-5.5.2-py3-none-any.whl.metadata (5.4 kB)\n",
            "Collecting pyasn1-modules>=0.2.1 (from google-auth>=1.4.1->earthengine-api)\n",
            "  Using cached pyasn1_modules-0.4.1-py3-none-any.whl.metadata (3.5 kB)\n",
            "Collecting rsa<5,>=3.1.4 (from google-auth>=1.4.1->earthengine-api)\n",
            "  Using cached rsa-4.9-py3-none-any.whl.metadata (4.2 kB)\n",
            "Collecting pyparsing!=3.0.0,!=3.0.1,!=3.0.2,!=3.0.3,<4,>=2.4.2 (from httplib2<1dev,>=0.9.2->earthengine-api)\n",
            "  Downloading pyparsing-3.2.1-py3-none-any.whl.metadata (5.0 kB)\n",
            "Collecting google-cloud-core<3.0dev,>=2.4.2 (from google-cloud-storage->earthengine-api)\n",
            "  Downloading google_cloud_core-2.4.2-py2.py3-none-any.whl.metadata (2.7 kB)\n",
            "Collecting google-resumable-media>=2.7.2 (from google-cloud-storage->earthengine-api)\n",
            "  Downloading google_resumable_media-2.7.2-py2.py3-none-any.whl.metadata (2.2 kB)\n",
            "Collecting google-crc32c<2.0dev,>=1.0 (from google-cloud-storage->earthengine-api)\n",
            "  Downloading google_crc32c-1.6.0.tar.gz (14 kB)\n",
            "  Installing build dependencies: started\n",
            "  Installing build dependencies: finished with status 'done'\n",
            "  Getting requirements to build wheel: started\n",
            "  Getting requirements to build wheel: finished with status 'done'\n",
            "  Preparing metadata (pyproject.toml): started\n",
            "  Preparing metadata (pyproject.toml): finished with status 'done'\n",
            "Collecting charset-normalizer<4,>=2 (from requests->earthengine-api)\n",
            "  Downloading charset_normalizer-3.4.1-cp313-cp313-win_amd64.whl.metadata (36 kB)\n",
            "Collecting idna<4,>=2.5 (from requests->earthengine-api)\n",
            "  Using cached idna-3.10-py3-none-any.whl.metadata (10 kB)\n",
            "Collecting urllib3<3,>=1.21.1 (from requests->earthengine-api)\n",
            "  Downloading urllib3-2.3.0-py3-none-any.whl.metadata (6.5 kB)\n",
            "Collecting certifi>=2017.4.17 (from requests->earthengine-api)\n",
            "  Downloading certifi-2025.1.31-py3-none-any.whl.metadata (2.5 kB)\n",
            "Collecting googleapis-common-protos<2.0.dev0,>=1.56.2 (from google-api-core!=2.0.*,!=2.1.*,!=2.2.*,!=2.3.0,<3.0.0.dev0,>=1.31.5->google-api-python-client>=1.12.1->earthengine-api)\n",
            "  Downloading googleapis_common_protos-1.69.1-py2.py3-none-any.whl.metadata (9.3 kB)\n",
            "Collecting protobuf!=3.20.0,!=3.20.1,!=4.21.0,!=4.21.1,!=4.21.2,!=4.21.3,!=4.21.4,!=4.21.5,<6.0.0.dev0,>=3.19.5 (from google-api-core!=2.0.*,!=2.1.*,!=2.2.*,!=2.3.0,<3.0.0.dev0,>=1.31.5->google-api-python-client>=1.12.1->earthengine-api)\n",
            "  Downloading protobuf-5.29.3-cp310-abi3-win_amd64.whl.metadata (592 bytes)\n",
            "Collecting proto-plus<2.0.0dev,>=1.22.3 (from google-api-core!=2.0.*,!=2.1.*,!=2.2.*,!=2.3.0,<3.0.0.dev0,>=1.31.5->google-api-python-client>=1.12.1->earthengine-api)\n",
            "  Downloading proto_plus-1.26.0-py3-none-any.whl.metadata (2.2 kB)\n",
            "Collecting pyasn1<0.7.0,>=0.4.6 (from pyasn1-modules>=0.2.1->google-auth>=1.4.1->earthengine-api)\n",
            "  Using cached pyasn1-0.6.1-py3-none-any.whl.metadata (8.4 kB)\n",
            "Downloading earthengine_api-1.5.5-py3-none-any.whl (459 kB)\n",
            "Downloading google_api_python_client-2.163.0-py2.py3-none-any.whl (13.1 MB)\n",
            "   ---------------------------------------- 0.0/13.1 MB ? eta -:--:--\n",
            "   ---- ----------------------------------- 1.6/13.1 MB 9.5 MB/s eta 0:00:02\n",
            "   ------ --------------------------------- 2.1/13.1 MB 9.6 MB/s eta 0:00:02\n",
            "   ---------- ----------------------------- 3.4/13.1 MB 5.4 MB/s eta 0:00:02\n",
            "   ------------- -------------------------- 4.5/13.1 MB 6.1 MB/s eta 0:00:02\n",
            "   --------------- ------------------------ 5.0/13.1 MB 4.8 MB/s eta 0:00:02\n",
            "   -------------------- ------------------- 6.8/13.1 MB 5.5 MB/s eta 0:00:02\n",
            "   ------------------------ --------------- 8.1/13.1 MB 5.6 MB/s eta 0:00:01\n",
            "   ---------------------------- ----------- 9.4/13.1 MB 5.6 MB/s eta 0:00:01\n",
            "   --------------------------------- ------ 11.0/13.1 MB 5.8 MB/s eta 0:00:01\n",
            "   -------------------------------------- - 12.6/13.1 MB 5.9 MB/s eta 0:00:01\n",
            "   ---------------------------------------  12.8/13.1 MB 5.9 MB/s eta 0:00:01\n",
            "   ---------------------------------------- 13.1/13.1 MB 5.6 MB/s eta 0:00:00\n",
            "Downloading google_auth-2.38.0-py2.py3-none-any.whl (210 kB)\n",
            "Downloading google_auth_httplib2-0.2.0-py2.py3-none-any.whl (9.3 kB)\n",
            "Downloading httplib2-0.22.0-py3-none-any.whl (96 kB)\n",
            "Downloading google_cloud_storage-3.1.0-py2.py3-none-any.whl (174 kB)\n",
            "Using cached requests-2.32.3-py3-none-any.whl (64 kB)\n",
            "Downloading cachetools-5.5.2-py3-none-any.whl (10 kB)\n",
            "Downloading certifi-2025.1.31-py3-none-any.whl (166 kB)\n",
            "Downloading charset_normalizer-3.4.1-cp313-cp313-win_amd64.whl (102 kB)\n",
            "Downloading google_api_core-2.24.1-py3-none-any.whl (160 kB)\n",
            "Downloading google_cloud_core-2.4.2-py2.py3-none-any.whl (29 kB)\n",
            "Downloading google_resumable_media-2.7.2-py2.py3-none-any.whl (81 kB)\n",
            "Using cached idna-3.10-py3-none-any.whl (70 kB)\n",
            "Using cached pyasn1_modules-0.4.1-py3-none-any.whl (181 kB)\n",
            "Downloading pyparsing-3.2.1-py3-none-any.whl (107 kB)\n",
            "Using cached rsa-4.9-py3-none-any.whl (34 kB)\n",
            "Downloading uritemplate-4.1.1-py2.py3-none-any.whl (10 kB)\n",
            "Downloading urllib3-2.3.0-py3-none-any.whl (128 kB)\n",
            "Downloading googleapis_common_protos-1.69.1-py2.py3-none-any.whl (293 kB)\n",
            "Downloading proto_plus-1.26.0-py3-none-any.whl (50 kB)\n",
            "Downloading protobuf-5.29.3-cp310-abi3-win_amd64.whl (434 kB)\n",
            "Using cached pyasn1-0.6.1-py3-none-any.whl (83 kB)\n",
            "Building wheels for collected packages: google-crc32c\n",
            "  Building wheel for google-crc32c (pyproject.toml): started\n",
            "  Building wheel for google-crc32c (pyproject.toml): finished with status 'done'\n",
            "  Created wheel for google-crc32c: filename=google_crc32c-1.6.0-py3-none-any.whl size=13247 sha256=acfe19711f35fdf90dbc539927ece80811c115ec39e666a57c70468ca9a789c8\n",
            "  Stored in directory: c:\\users\\moham\\appdata\\local\\pip\\cache\\wheels\\f0\\30\\2d\\4f76c4cb14c0d620b09072202f0ef711f657109eaef3c1cf75\n",
            "Successfully built google-crc32c\n",
            "Installing collected packages: urllib3, uritemplate, pyparsing, pyasn1, protobuf, idna, google-crc32c, charset-normalizer, certifi, cachetools, rsa, requests, pyasn1-modules, proto-plus, httplib2, googleapis-common-protos, google-resumable-media, google-auth, google-auth-httplib2, google-api-core, google-cloud-core, google-api-python-client, google-cloud-storage, earthengine-api\n",
            "Successfully installed cachetools-5.5.2 certifi-2025.1.31 charset-normalizer-3.4.1 earthengine-api-1.5.5 google-api-core-2.24.1 google-api-python-client-2.163.0 google-auth-2.38.0 google-auth-httplib2-0.2.0 google-cloud-core-2.4.2 google-cloud-storage-3.1.0 google-crc32c-1.6.0 google-resumable-media-2.7.2 googleapis-common-protos-1.69.1 httplib2-0.22.0 idna-3.10 proto-plus-1.26.0 protobuf-5.29.3 pyasn1-0.6.1 pyasn1-modules-0.4.1 pyparsing-3.2.1 requests-2.32.3 rsa-4.9 uritemplate-4.1.1 urllib3-2.3.0\n"
          ]
        },
        {
          "name": "stderr",
          "output_type": "stream",
          "text": [
            "\n",
            "[notice] A new release of pip is available: 24.2 -> 25.0.1\n",
            "[notice] To update, run: C:\\Users\\moham\\AppData\\Local\\Programs\\Python\\Python313\\python.exe -m pip install --upgrade pip\n"
          ]
        },
        {
          "name": "stdout",
          "output_type": "stream",
          "text": [
            "Collecting geopandas\n",
            "  Downloading geopandas-1.0.1-py3-none-any.whl.metadata (2.2 kB)\n",
            "Collecting numpy>=1.22 (from geopandas)\n",
            "  Downloading numpy-2.2.3-cp313-cp313-win_amd64.whl.metadata (60 kB)\n",
            "Collecting pyogrio>=0.7.2 (from geopandas)\n",
            "  Downloading pyogrio-0.10.0-cp313-cp313-win_amd64.whl.metadata (5.6 kB)\n",
            "Collecting packaging (from geopandas)\n",
            "  Using cached packaging-24.2-py3-none-any.whl.metadata (3.2 kB)\n",
            "Collecting pandas>=1.4.0 (from geopandas)\n",
            "  Downloading pandas-2.2.3-cp313-cp313-win_amd64.whl.metadata (19 kB)\n",
            "Collecting pyproj>=3.3.0 (from geopandas)\n",
            "  Downloading pyproj-3.7.1-cp313-cp313-win_amd64.whl.metadata (31 kB)\n",
            "Collecting shapely>=2.0.0 (from geopandas)\n",
            "  Downloading shapely-2.0.7-cp313-cp313-win_amd64.whl.metadata (7.1 kB)\n",
            "Collecting python-dateutil>=2.8.2 (from pandas>=1.4.0->geopandas)\n",
            "  Using cached python_dateutil-2.9.0.post0-py2.py3-none-any.whl.metadata (8.4 kB)\n",
            "Collecting pytz>=2020.1 (from pandas>=1.4.0->geopandas)\n",
            "  Downloading pytz-2025.1-py2.py3-none-any.whl.metadata (22 kB)\n",
            "Collecting tzdata>=2022.7 (from pandas>=1.4.0->geopandas)\n",
            "  Downloading tzdata-2025.1-py2.py3-none-any.whl.metadata (1.4 kB)\n",
            "Requirement already satisfied: certifi in c:\\users\\moham\\appdata\\local\\programs\\python\\python313\\lib\\site-packages (from pyogrio>=0.7.2->geopandas) (2025.1.31)\n",
            "Collecting six>=1.5 (from python-dateutil>=2.8.2->pandas>=1.4.0->geopandas)\n",
            "  Using cached six-1.17.0-py2.py3-none-any.whl.metadata (1.7 kB)\n",
            "Downloading geopandas-1.0.1-py3-none-any.whl (323 kB)\n",
            "Downloading numpy-2.2.3-cp313-cp313-win_amd64.whl (12.6 MB)\n",
            "   ---------------------------------------- 0.0/12.6 MB ? eta -:--:--\n",
            "   ---- ----------------------------------- 1.6/12.6 MB 10.3 MB/s eta 0:00:02\n",
            "   ----- ---------------------------------- 1.8/12.6 MB 8.6 MB/s eta 0:00:02\n",
            "   ----- ---------------------------------- 1.8/12.6 MB 8.6 MB/s eta 0:00:02\n",
            "   ----- ---------------------------------- 1.8/12.6 MB 8.6 MB/s eta 0:00:02\n",
            "   ----- ---------------------------------- 1.8/12.6 MB 8.6 MB/s eta 0:00:02\n",
            "   ----- ---------------------------------- 1.8/12.6 MB 8.6 MB/s eta 0:00:02\n",
            "   ----- ---------------------------------- 1.8/12.6 MB 8.6 MB/s eta 0:00:02\n",
            "   ----- ---------------------------------- 1.8/12.6 MB 8.6 MB/s eta 0:00:02\n",
            "   ----- ---------------------------------- 1.8/12.6 MB 8.6 MB/s eta 0:00:02\n",
            "   --------- ------------------------------ 3.1/12.6 MB 1.4 MB/s eta 0:00:07\n",
            "   -------------- ------------------------- 4.5/12.6 MB 1.9 MB/s eta 0:00:05\n",
            "   ------------------- -------------------- 6.3/12.6 MB 2.4 MB/s eta 0:00:03\n",
            "   ------------------------ --------------- 7.6/12.6 MB 2.7 MB/s eta 0:00:02\n",
            "   ----------------------------- ---------- 9.2/12.6 MB 3.1 MB/s eta 0:00:02\n",
            "   --------------------------------- ------ 10.5/12.6 MB 3.3 MB/s eta 0:00:01\n",
            "   ------------------------------------- -- 11.8/12.6 MB 3.5 MB/s eta 0:00:01\n",
            "   ---------------------------------------- 12.6/12.6 MB 3.6 MB/s eta 0:00:00\n",
            "Downloading pandas-2.2.3-cp313-cp313-win_amd64.whl (11.5 MB)\n",
            "   ---------------------------------------- 0.0/11.5 MB ? eta -:--:--\n",
            "   --- ------------------------------------ 1.0/11.5 MB 6.0 MB/s eta 0:00:02\n",
            "   -------- ------------------------------- 2.4/11.5 MB 5.8 MB/s eta 0:00:02\n",
            "   ------------ --------------------------- 3.7/11.5 MB 5.9 MB/s eta 0:00:02\n",
            "   ----------------- ---------------------- 5.0/11.5 MB 6.2 MB/s eta 0:00:02\n",
            "   ---------------------- ----------------- 6.6/11.5 MB 6.4 MB/s eta 0:00:01\n",
            "   ---------------------------- ----------- 8.1/11.5 MB 6.6 MB/s eta 0:00:01\n",
            "   -------------------------------- ------- 9.4/11.5 MB 6.5 MB/s eta 0:00:01\n",
            "   ------------------------------------ --- 10.5/11.5 MB 6.3 MB/s eta 0:00:01\n",
            "   ---------------------------------------- 11.5/11.5 MB 6.2 MB/s eta 0:00:00\n",
            "Downloading pyogrio-0.10.0-cp313-cp313-win_amd64.whl (16.2 MB)\n",
            "   ---------------------------------------- 0.0/16.2 MB ? eta -:--:--\n",
            "   --- ------------------------------------ 1.3/16.2 MB 6.6 MB/s eta 0:00:03\n",
            "   ------ --------------------------------- 2.6/16.2 MB 6.6 MB/s eta 0:00:03\n",
            "   ---------- ----------------------------- 4.2/16.2 MB 6.7 MB/s eta 0:00:02\n",
            "   -------------- ------------------------- 5.8/16.2 MB 7.0 MB/s eta 0:00:02\n",
            "   ----------------- ---------------------- 7.1/16.2 MB 6.9 MB/s eta 0:00:02\n",
            "   --------------------- ------------------ 8.7/16.2 MB 6.9 MB/s eta 0:00:02\n",
            "   ------------------------ --------------- 10.0/16.2 MB 6.9 MB/s eta 0:00:01\n",
            "   --------------------------- ------------ 11.3/16.2 MB 6.7 MB/s eta 0:00:01\n",
            "   ------------------------------- -------- 12.8/16.2 MB 6.7 MB/s eta 0:00:01\n",
            "   ----------------------------------- ---- 14.2/16.2 MB 6.8 MB/s eta 0:00:01\n",
            "   -------------------------------------- - 15.7/16.2 MB 6.8 MB/s eta 0:00:01\n",
            "   ---------------------------------------- 16.2/16.2 MB 6.7 MB/s eta 0:00:00\n",
            "Downloading pyproj-3.7.1-cp313-cp313-win_amd64.whl (6.3 MB)\n",
            "   ---------------------------------------- 0.0/6.3 MB ? eta -:--:--\n",
            "   ---------- ----------------------------- 1.6/6.3 MB 7.9 MB/s eta 0:00:01\n",
            "   -------------------- ------------------- 3.1/6.3 MB 7.5 MB/s eta 0:00:01\n",
            "   ---------------------------- ----------- 4.5/6.3 MB 7.2 MB/s eta 0:00:01\n",
            "   -------------------------------------- - 6.0/6.3 MB 7.2 MB/s eta 0:00:01\n",
            "   ---------------------------------------- 6.3/6.3 MB 7.0 MB/s eta 0:00:00\n",
            "Downloading shapely-2.0.7-cp313-cp313-win_amd64.whl (1.4 MB)\n",
            "   ---------------------------------------- 0.0/1.4 MB ? eta -:--:--\n",
            "   ---------------------------------------- 1.4/1.4 MB 7.1 MB/s eta 0:00:00\n",
            "Using cached packaging-24.2-py3-none-any.whl (65 kB)\n",
            "Using cached python_dateutil-2.9.0.post0-py2.py3-none-any.whl (229 kB)\n",
            "Downloading pytz-2025.1-py2.py3-none-any.whl (507 kB)\n",
            "Downloading tzdata-2025.1-py2.py3-none-any.whl (346 kB)\n",
            "Using cached six-1.17.0-py2.py3-none-any.whl (11 kB)\n",
            "Installing collected packages: pytz, tzdata, six, pyproj, packaging, numpy, shapely, python-dateutil, pyogrio, pandas, geopandas\n",
            "Successfully installed geopandas-1.0.1 numpy-2.2.3 packaging-24.2 pandas-2.2.3 pyogrio-0.10.0 pyproj-3.7.1 python-dateutil-2.9.0.post0 pytz-2025.1 shapely-2.0.7 six-1.17.0 tzdata-2025.1\n"
          ]
        },
        {
          "name": "stderr",
          "output_type": "stream",
          "text": [
            "\n",
            "[notice] A new release of pip is available: 24.2 -> 25.0.1\n",
            "[notice] To update, run: C:\\Users\\moham\\AppData\\Local\\Programs\\Python\\Python313\\python.exe -m pip install --upgrade pip\n"
          ]
        }
      ],
      "source": [
        "!pip install earthengine-api\n",
        "!pip install geopandas\n",
        "import os\n",
        "import sys\n",
        "import math"
      ]
    },
    {
      "cell_type": "markdown",
      "metadata": {
        "colab_type": "text",
        "id": "MtPTLWyssv-t"
      },
      "source": [
        "The user must have an Google account and sign up to use the Google Earth Engine (see https://earthengine.google.com/)."
      ]
    },
    {
      "cell_type": "code",
      "execution_count": 0,
      "metadata": {
        "colab": {
          "base_uri": "https://localhost:8080/",
          "height": 173
        },
        "colab_type": "code",
        "id": "-5HIkyT5gWKW",
        "outputId": "9f39cbaf-aafb-4788-f81d-fd7b0402ca9d"
      },
      "outputs": [
        {
          "name": "stdout",
          "output_type": "stream",
          "text": [
            "To authorize access needed by Earth Engine, open the following URL in a web browser and follow the instructions. If the web browser does not start automatically, please manually browse the URL below.\n",
            "\n",
            "    https://accounts.google.com/o/oauth2/auth?client_id=517222506229-vsmmajv00ul0bs7p89v5m89qs8eb9359.apps.googleusercontent.com&scope=https%3A%2F%2Fwww.googleapis.com%2Fauth%2Fearthengine+https%3A%2F%2Fwww.googleapis.com%2Fauth%2Fdevstorage.full_control&redirect_uri=urn%3Aietf%3Awg%3Aoauth%3A2.0%3Aoob&response_type=code&code_challenge=nhL5sPF-2GUmVrISAYfHK2s6vJa17xqQ-SUH_4BVrRU&code_challenge_method=S256\n",
            "\n",
            "The authorization workflow will generate a code, which you should paste in the box below. \n",
            "Enter verification code: 4/ygFcdwX1ajkK7y_790W-P6W9vgLSYhiex7GgzlHpgmddRU0ZKFo2DhI\n",
            "\n",
            "Successfully saved authorization token.\n"
          ]
        }
      ],
      "source": [
        "# Import the Earth Engine library.\n",
        "import ee\n",
        "\n",
        "# Trigger the authentication flow.\n",
        "ee.Authenticate()"
      ]
    },
    {
      "cell_type": "markdown",
      "metadata": {
        "colab_type": "text",
        "id": "tO2PBWWCDih8"
      },
      "source": [
        "Image samples will be saved on the user Google Drive. The drive must be mounted before proceeding."
      ]
    },
    {
      "cell_type": "code",
      "execution_count": 0,
      "metadata": {
        "colab": {},
        "colab_type": "code",
        "id": "XAoS6bhLgXI-"
      },
      "outputs": [],
      "source": [
        "from google.colab import drive\n",
        "drive.mount('/content/drive')"
      ]
    },
    {
      "cell_type": "code",
      "execution_count": 0,
      "metadata": {
        "colab": {},
        "colab_type": "code",
        "id": "ekYAZNg2gvte"
      },
      "outputs": [],
      "source": [
        "# Import the Earth Engine Python Package\n",
        "import ee\n",
        "import pandas as pd\n",
        "import numpy as np\n",
        "import geopandas as gpd"
      ]
    },
    {
      "cell_type": "code",
      "execution_count": 0,
      "metadata": {
        "colab": {},
        "colab_type": "code",
        "id": "S5lgF-yhEC-n"
      },
      "outputs": [],
      "source": [
        "# Initialize the Earth Engine object, using the authentication credentials.\n",
        "ee.Initialize()"
      ]
    },
    {
      "cell_type": "code",
      "execution_count": 0,
      "metadata": {
        "colab": {},
        "colab_type": "code",
        "id": "OXGrWxx9ibuL"
      },
      "outputs": [],
      "source": [
        "# Cloud masking function for Sentinel-2.\n",
        "def maskS2clouds(image):\n",
        "  cloudShadowBitMask = ee.Number(2).pow(3).int()\n",
        "  cloudsBitMask = ee.Number(2).pow(5).int()\n",
        "  qa = image.select('QA60')\n",
        "  mask = qa.bitwiseAnd(cloudShadowBitMask).eq(0).And(\n",
        "    qa.bitwiseAnd(cloudsBitMask).eq(0))\n",
        "  return image.updateMask(mask).select(bands).divide(10000)\n"
      ]
    },
    {
      "cell_type": "markdown",
      "metadata": {
        "colab_type": "text",
        "id": "QaROQmT4Oyw4"
      },
      "source": [
        "Editing the next cell the user can select the spectral bands to be included on the image patches."
      ]
    },
    {
      "cell_type": "code",
      "execution_count": 0,
      "metadata": {
        "colab": {},
        "colab_type": "code",
        "id": "zlg6wqlsiU4p"
      },
      "outputs": [],
      "source": [
        "# Use these bands for prediction.\n",
        "bands = ['B1', 'B2', 'B3', 'B4', 'B5','B6', 'B7', 'B8', 'B9', 'B10', 'B11', 'B12']\n",
        "\n",
        "# Use Sentinel 2 surface reflectance data.\n",
        "sentinel = ee.ImageCollection(\"COPERNICUS/S2\")\n"
      ]
    },
    {
      "cell_type": "markdown",
      "metadata": {
        "colab_type": "text",
        "id": "NfKWam0gHuMu"
      },
      "source": [
        "Editing the next cell the user can select the time interval (filterDate) and the cloud cover percentage ('CLOUDY_PIXEL_PERCENTAGE') to filter the images used on compose the patches. The shorter the interval the greater the chances to have pixels with no data to display. Regions with frequent cloud cover, like the rain forest, will require a long interval to ensure a complete pixel set."
      ]
    },
    {
      "cell_type": "code",
      "execution_count": 0,
      "metadata": {
        "colab": {},
        "colab_type": "code",
        "id": "fwlGdgKLjFwW"
      },
      "outputs": [],
      "source": [
        "# The image input data is cloud-masked median composite.\n",
        "image = sentinel.filterDate('2018-01-01','2020-01-01').filter(ee.Filter.lte('CLOUDY_PIXEL_PERCENTAGE', 20)).map(maskS2clouds).median().toFloat()\n"
      ]
    },
    {
      "cell_type": "markdown",
      "metadata": {
        "colab_type": "text",
        "id": "xJIw1aFOD2ZE"
      },
      "source": [
        "On the following the user will be able to choose a csv file from his Google Drive root containing the coordinates (latitude and longitude) of the spots from which he wants to extract the image patches. Additionally, he will be prompted to inform the columns separator used in the csv file. \n",
        "\n",
        "The polygons delimiting the areas of interest described on the csv file can be defined using one of the following schemes:\n",
        "\n",
        "1: using two pairs of coordinates indicating the lower-left  (souththwest) and the upper right (northeast) corners of the polygon;\n",
        "\n",
        "2: defining the coordinates of a central point and the length of the side of a square defined around that point.\n",
        "\n",
        "The user will be prompted to inform which scheme should be used to read the csv file (all records on the file should use the same scheme).\n",
        "\n",
        "A last column on the csv file should be used to inform a class name for the sample. This class name will be used as prefix to name the image files.\n",
        "\n",
        "The csv records should look like this:\n",
        "\n",
        "####-column separator =';' and scheme 1:\n",
        "\n",
        "> lower left y latitude; lower left x longitude; upper right y latitude; upper right x longitude;  class\n",
        "\n",
        "> -20.893706;-45.271998;-18.854222;-41.958905;area1\n",
        "\n",
        "\n",
        "####-column separator =';' and scheme 2:\n",
        "> central point latitude; central point longitude; class name\n",
        "\n",
        ">-23.82113889;-50.42022222;dam\n",
        "\n"
      ]
    },
    {
      "cell_type": "code",
      "execution_count": 0,
      "metadata": {
        "colab": {},
        "colab_type": "code",
        "id": "iTOhU5NdjMzU"
      },
      "outputs": [],
      "source": [
        "def offset(lat,lon,x,y):\n",
        "\n",
        "\t#Earth’s radius, sphere\n",
        "\tR=6378137\n",
        "\n",
        "\t#Coordinate offsets in radians\n",
        "\tdLat = x/R\n",
        "\tdLon = y/(R*math.cos(math.pi*lat/180))\n",
        "\n",
        "\treturn lat + dLat * 180/math.pi, lon + dLon * 180/math.pi\n",
        " \n",
        "\n",
        "def exportImage(data,scheme,size=0):\n",
        "\n",
        "\t# Loop the csv file.\n",
        "\n",
        "\tfor d in range(data.shape[0]):\n",
        "\n",
        "\t\tif scheme == 2:\t\n",
        "\t\t\tx = data[d][0]\n",
        "\t\t\ty = data[d][1]\n",
        "\n",
        "\t\t\tllx , lly = offset(x,y,-size/2,-size/2)\n",
        "\t\t\turx , ury = offset(x,y,size/2,\tsize/2)\n",
        "\n",
        "\t\t\tlabel = data[d][2]\n",
        "\t \n",
        "\t\telse:\n",
        "\n",
        "\t\t\tllx = data[d][0]\n",
        "\t\t\tlly = data[d][1]\n",
        "\t\t\turx = data[d][2]\n",
        "\t\t\tury = data[d][3]\t\n",
        "\n",
        "\t\t\tlabel = data[d][4]\t\n",
        "\n",
        "\t\tgeometry = [[llx,lly], [llx,ury], [urx,ury], [urx,lly]]\n",
        "\n",
        "\t\ttask_config = {\n",
        "\t    'scale':  10 ,\n",
        "\t    'region': geometry\n",
        "\t    }\n",
        "\t\t\n",
        "\t\tname = label + str(d)\n",
        "\t\t# Create a task.\n",
        "\t\ttask = ee.batch.Export.image(image, name, task_config)\n",
        "\n",
        "\t\t# Send the task to the earth engine.\n",
        "\t\ttask.start()    "
      ]
    },
    {
      "cell_type": "code",
      "execution_count": 0,
      "metadata": {
        "colab": {},
        "colab_type": "code",
        "id": "a7rA0mUOdVo0"
      },
      "outputs": [],
      "source": [
        "#MAIN WORKFLOW\n",
        "\n",
        "# assuming the csv file on the My drive root folder (change the %cd if it is not the case)\n",
        "%cd /content/drive/My Drive/\n",
        "files = []\n",
        "count=0\n",
        "for f in os.listdir('./'):\n",
        "  name, ext = os.path.splitext(f)\n",
        "  if ext == '.csv':\n",
        "    files.append(f)\n",
        "    count+=1\n",
        "    print(count,\":\",f)\n",
        "\n",
        "print(\"Choose your file:\")\n",
        "try:\n",
        "  r=int(input('Input:'))\n",
        "except ValueError:\n",
        "  print(\"Not a number\")\n",
        "\n",
        "print(\"csv separator? (typically ';' or ',')\")\n",
        "sep=input('Input:')\n",
        "\n",
        "data = pd.read_csv(files[r-1], sep= sep)\n",
        "data = data.values\n",
        "\n",
        "print(data.shape[0],\"records with\",data.shape[1],\"columns\")\n",
        "\n",
        "if data.shape[1]==3:\n",
        "  print(\"Central point scheme. Please inform the square side length (in meters):\")\n",
        "  try:\n",
        "    size=int(input('Input:'))\n",
        "  except ValueError:\n",
        "    print(\"Not a number\")\n",
        "  exportImage(data,2,size)\n",
        "elif data.shape[1]==5:\n",
        "  exportImage(data,1)\n",
        "else:\n",
        "  print(\"Invalid csv file!\")\n",
        "  sys.exit(0)"
      ]
    },
    {
      "cell_type": "markdown",
      "metadata": {
        "colab_type": "text",
        "id": "mBTSvF9jyJ4D"
      },
      "source": [
        "If the script was succesfull the tasks should be visible on Google Earth Engine code editor (https://code.earthengine.google.com/) interface. The user must log on to authorize the tasks execution."
      ]
    }
  ],
  "metadata": {
    "colab": {
      "collapsed_sections": [],
      "include_colab_link": true,
      "name": "loadSentinelDams.ipynb",
      "provenance": []
    },
    "kernelspec": {
      "display_name": "Python 3",
      "name": "python3"
    },
    "language_info": {
      "codemirror_mode": {
        "name": "ipython",
        "version": 3
      },
      "file_extension": ".py",
      "mimetype": "text/x-python",
      "name": "python",
      "nbconvert_exporter": "python",
      "pygments_lexer": "ipython3",
      "version": "3.12.4"
    }
  },
  "nbformat": 4,
  "nbformat_minor": 0
}
